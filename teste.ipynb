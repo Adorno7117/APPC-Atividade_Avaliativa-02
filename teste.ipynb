{
 "cells": [
  {
   "cell_type": "code",
   "execution_count": 169,
   "metadata": {},
   "outputs": [
    {
     "name": "stdout",
     "output_type": "stream",
     "text": [
      "\n",
      "Matricula Inválida!\n",
      "\n",
      "Matricula Inválida!\n",
      "\n",
      "Menu:\n",
      "====================================\n",
      "101. Vendedor\n",
      "102- Administrativo\n",
      "------------------------------------\n",
      "\n",
      "Salário Invalido!\n",
      "\n",
      "Salário Invalido!\n",
      "\n",
      "Salário Invalido!\n",
      "Funcionario luis inserido com sucesso!\n",
      "{'nome': 'luis', 'codigo': 102, 'numero_faltas': 0, 'salario_bruto': 3000.0, 'salario_liquido': 2550.0, 'imposto': 15}\n",
      "{1: {'nome': 'Luis', 'codigo': 101, 'numero_faltas': 2, 'salario_bruto': 1680.0, 'salario_liquido': 1568.0, 'imposto': 0}, 2: {'nome': 'Silva', 'codigo': 101, 'numero_faltas': 2, 'salario_bruto': 1680.0, 'salario_liquido': 1568.0, 'imposto': 0}, 3: {'nome': 'Gustavo', 'codigo': 102, 'numero_faltas': 3, 'salario_bruto': 3000.0, 'salario_liquido': 2595.0, 'imposto': 15}, 4: {'nome': 'luis', 'codigo': 102, 'numero_faltas': 0, 'salario_bruto': 3000.0, 'salario_liquido': 2550.0, 'imposto': 15}}\n"
     ]
    }
   ],
   "source": [
    "tabelaFuncionario = {\n",
    "    1: {'nome': 'Luis', 'codigo': 101, 'numero_faltas': 2, 'salario_bruto': 1680.0, 'salario_liquido': 1568.0, 'imposto': 0},\n",
    "    2: {'nome': 'Silva', 'codigo': 101, 'numero_faltas': 2, 'salario_bruto': 1680.0, 'salario_liquido': 1568.0, 'imposto': 0},\n",
    "    3: {'nome': 'Gustavo', 'codigo': 102, 'numero_faltas': 3, 'salario_bruto': 3000.0, 'salario_liquido': 2595.0, 'imposto': 15}\n",
    "\n",
    "}\n",
    "def calcula_salario(salarioFixo, numFalta):\n",
    "    if salarioFixo <= 2259.20:\n",
    "        salarioLiq = salarioFixo - ((salarioFixo / 30) * numFalta)\n",
    "        imposto = 0\n",
    "    elif salarioFixo <= 2828.65:\n",
    "        salarioLiq = salarioFixo - ((salarioFixo - ((salarioFixo / 30) * numFalta)) * 0.075)\n",
    "        imposto = 7,5\n",
    "    elif salarioFixo <= 3751.05:\n",
    "        salarioLiq = salarioFixo - ((salarioFixo - ((salarioFixo / 30) * numFalta)) * 0.15)\n",
    "        imposto = 15\n",
    "    elif salarioFixo <= 4664.68:\n",
    "        salarioLiq = salarioFixo - ((salarioFixo - ((salarioFixo / 30) * numFalta)) * 0.225)\n",
    "        imposto = 22,5\n",
    "    else:\n",
    "        salarioLiq = salarioFixo - ((salarioFixo - ((salarioFixo / 30) * numFalta)) * 0.275)\n",
    "        imposto = 27,5\n",
    "    \n",
    "    return [imposto, salarioLiq]\n",
    "\n",
    "def adicionar_funcionario():\n",
    "    matricula = int(input(\"\\nDigite o número da matricula: \"))\n",
    "    \n",
    "    while matricula in tabelaFuncionario.keys():\n",
    "        print(\"\\nMatricula Inválida!\")\n",
    "        matricula = int(input(\"Digite um número de matricula válido: \"))\n",
    "        \n",
    "    nome = str(input(\"Digite o nome do funcionario: \"))\n",
    "    \n",
    "    print(\"\\nMenu:\")\n",
    "    print(36 * \"=\")\n",
    "    print(\"101. Vendedor\")\n",
    "    print(\"102- Administrativo\")\n",
    "    print(36 * \"-\")\n",
    "    codigo = int(input(\"\\nDigite o codigo: \"))\n",
    "    \n",
    "    while codigo not in [101, 102]:\n",
    "        print(\"\\nCodigo Invalido!\")\n",
    "        codigo = int(input(\"Digite um codigo válido: \"))\n",
    "    \n",
    "    numFalta = int(input(\"Digite o número de faltas: \"))\n",
    "    \n",
    "    if codigo == 101:\n",
    "        valorVenda = float(input(\"Digite o valor de vendas/mês do vendedor: R$ \"))\n",
    "        salarioFixo = 1500 + (valorVenda * 0.09)\n",
    "        \n",
    "    else:\n",
    "        salarioFixo = float(input(\"Digite o Salario Fixo do funcionário: \"))\n",
    "        \n",
    "        \n",
    "        while salarioFixo < 2150.00 or salarioFixo > 6950.00:\n",
    "            print(\"\\nSalário Invalido!\")\n",
    "            salarioFixo = float(input(\"Digite um Salario Fixo válido: \"))\n",
    "        \n",
    "    # Calcula imposto e salario liquido funcionario\n",
    "    impostoAndSalarioLiq = calcula_salario(salarioFixo, numFalta)\n",
    "    \n",
    "    tabelaFuncionario[matricula] = {\n",
    "        \"nome\": nome,\n",
    "        \"codigo\": codigo,\n",
    "        \"numero_faltas\": numFalta,\n",
    "        \"salario_bruto\": salarioFixo,\n",
    "        \"salario_liquido\": impostoAndSalarioLiq[1],\n",
    "        \"imposto\": impostoAndSalarioLiq[0],\n",
    "    }\n",
    "    print(f\"Funcionario {nome} inserido com sucesso!\")\n",
    "    print(tabelaFuncionario[matricula])\n",
    "\n",
    "adicionar_funcionario()\n",
    "\n",
    "print(tabelaFuncionario)\n",
    "            "
   ]
  },
  {
   "cell_type": "code",
   "execution_count": 174,
   "metadata": {},
   "outputs": [
    {
     "data": {
      "text/plain": [
       "[0, 2259.2]"
      ]
     },
     "execution_count": 174,
     "metadata": {},
     "output_type": "execute_result"
    }
   ],
   "source": [
    "def calcula_salario(salarioFixo, numFalta):\n",
    "    if salarioFixo <= 2259.20:\n",
    "        salarioLiq = salarioFixo - ((salarioFixo / 30) * numFalta)\n",
    "        imposto = 0\n",
    "    elif salarioFixo <= 2828.65:\n",
    "        salarioLiq = salarioFixo - ((salarioFixo - ((salarioFixo / 30) * numFalta)) * 0.075)\n",
    "        imposto = 7,5\n",
    "    elif salarioFixo <= 3751.05:\n",
    "        salarioLiq = salarioFixo - ((salarioFixo - ((salarioFixo / 30) * numFalta)) * 0.15)\n",
    "        imposto = 15\n",
    "    elif salarioFixo <= 4664.68:\n",
    "        salarioLiq = salarioFixo - ((salarioFixo - ((salarioFixo / 30) * numFalta)) * 0.225)\n",
    "        imposto = 22,5\n",
    "    else:\n",
    "        salarioLiq = salarioFixo - ((salarioFixo - ((salarioFixo / 30) * numFalta)) * 0.275)\n",
    "        imposto = 27,5\n",
    "    \n",
    "    return [imposto, salarioLiq]\n",
    "\n",
    "calcula_salario(2259.20, 0)"
   ]
  },
  {
   "cell_type": "code",
   "execution_count": 48,
   "metadata": {},
   "outputs": [
    {
     "name": "stdout",
     "output_type": "stream",
     "text": [
      "Funcionário luis removido com sucesso!\n"
     ]
    }
   ],
   "source": [
    "\n",
    "tabelaFuncionario = {1: {'nome': 'luis', 'codigo': 101, 'numero_faltas': 2, 'salario_bruto': 1680.0, 'salario_liquido': 1568.0, 'imposto': 0}}\n",
    "\n",
    "def remover_funcionario ():\n",
    "    matricula = int(input('\\nDigite o número da matricula do funcionario a ser removido: '))\n",
    "\n",
    "    if matricula in tabelaFuncionario:\n",
    "        opcao = input('\\nDeseja realmente excluir este funcioario? s[SIM] n[NÃO]: ').upper()\n",
    "        \n",
    "        while opcao not in ['S', 'N']:\n",
    "            opcao = input('\\nDeseja realmente excluir este funcioario? s[SIM] n[NÃO]: ').upper()\n",
    "        \n",
    "        if opcao == 'S':\n",
    "            print(f\"Funcionário {tabelaFuncionario[matricula]['nome']} removido com sucesso!\")\n",
    "            del tabelaFuncionario[matricula]\n",
    "\n",
    "    else:\n",
    "        print(f\"Não foi possivel encontrar um funcionário com a matricula {matricula}\")\n",
    "        \n",
    "remover_funcionario()\n"
   ]
  },
  {
   "cell_type": "code",
   "execution_count": 167,
   "metadata": {},
   "outputs": [
    {
     "name": "stdout",
     "output_type": "stream",
     "text": [
      "Nome da empresa: Marketing é Tudo\n",
      "\n",
      "Matricula  Nome                 Setor                     Salário Bruto   Salário Líquido    Descontos  Imposto   \n",
      "--------------------------------------------------------------------------------------------------------------\n",
      "2          Silva                101 - Vendendor            R$ 1680.00        R$ 1568.00        112.0      0 %\n"
     ]
    }
   ],
   "source": [
    "tabelaFuncionario = {\n",
    "    1: {'nome': 'Luis', 'codigo': 101, 'numero_faltas': 2, 'salario_bruto': 1680.0, 'salario_liquido': 1568.0, 'imposto': 0},\n",
    "    2: {'nome': 'Silva', 'codigo': 101, 'numero_faltas': 2, 'salario_bruto': 1680.0, 'salario_liquido': 1568.0, 'imposto': 0},\n",
    "    3: {'nome': 'Gustavo', 'codigo': 102, 'numero_faltas': 3, 'salario_bruto': 3000.0, 'salario_liquido': 2595.0, 'imposto': 15}\n",
    "}\n",
    "\n",
    "def folha_pagamento (): \n",
    "    matricula = int(input(\"\\nDigite o número da matricula: \"))\n",
    "    \n",
    "    if matricula in tabelaFuncionario:\n",
    "        setorFuncionario = ''\n",
    "        \n",
    "        if tabelaFuncionario[matricula]['codigo'] == 101:\n",
    "            setorFuncionario = 'Vendendor'\n",
    "        else:\n",
    "            setorFuncionario = 'Administrativo'\n",
    "            \n",
    "        print(\"Nome da empresa: Marketing é Tudo\")\n",
    "        \n",
    "        print(f\"\\n{'Matricula':<10} {'Nome':<20} {'Setor':<25} {'Salário Bruto':<15} {'Salário Líquido':<18} {'Descontos':<10} {'Imposto':<10}\")\n",
    "        print(\"-\" * 110)\n",
    "        print(f\"{matricula:<10} {tabelaFuncionario[matricula]['nome']:<20} {tabelaFuncionario[matricula]['codigo']:<3} - {setorFuncionario:<20} R$ {tabelaFuncionario[matricula]['salario_bruto']:<14.2f} R$ {tabelaFuncionario[matricula]['salario_liquido']:<14.2f} {(tabelaFuncionario[matricula]['salario_bruto'] - tabelaFuncionario[matricula]['salario_liquido']):<10} {tabelaFuncionario[matricula]['imposto']} %\")\n",
    "\n",
    "        \n",
    "    else:\n",
    "        print(f\"Não foi possivel encontrar um funcionário com a matricula {matricula}\")\n",
    "    \n",
    "folha_pagamento()\n",
    "     "
   ]
  },
  {
   "cell_type": "code",
   "execution_count": 83,
   "metadata": {},
   "outputs": [
    {
     "name": "stdout",
     "output_type": "stream",
     "text": [
      "\n",
      "Matricula  Nome                 Código da Função     Salário Bruto   Salário Líquido\n",
      "------------------------------------------------------------------------------------------\n",
      "1          Luis                 101                  R$ 1680.00        R$ 1568.00       \n",
      "2          Silva                101                  R$ 1680.00        R$ 1568.00       \n",
      "3          Gustavo              102                  R$ 3000.00        R$ 2595.00       \n"
     ]
    }
   ],
   "source": [
    "tabelaFuncionario = {\n",
    "    1: {'nome': 'Luis', 'codigo': 101, 'numero_faltas': 2, 'salario_bruto': 1680.0, 'salario_liquido': 1568.0, 'imposto': 0},\n",
    "    2: {'nome': 'Silva', 'codigo': 101, 'numero_faltas': 2, 'salario_bruto': 1680.0, 'salario_liquido': 1568.0, 'imposto': 0},\n",
    "    3: {'nome': 'Gustavo', 'codigo': 102, 'numero_faltas': 3, 'salario_bruto': 3000.0, 'salario_liquido': 2595.0, 'imposto': 15}\n",
    "}\n",
    "\n",
    "\n",
    "print(f\"\\n{'Matricula':<10} {'Nome':<20} {'Código da Função':<20} {'Salário Bruto':<15} {'Salário Líquido':<15}\")\n",
    "print(\"-\" * 90)\n",
    "for matricula, dados in tabelaFuncionario.items():\n",
    "    print(f\"{matricula:<10} {dados['nome']:<20} {dados['codigo']:<20} R$ {dados['salario_bruto']:<14.2f} R$ {dados['salario_liquido']:<14.2f}\")\n",
    "   "
   ]
  },
  {
   "cell_type": "code",
   "execution_count": 116,
   "metadata": {},
   "outputs": [
    {
     "name": "stdout",
     "output_type": "stream",
     "text": [
      "\n",
      "Matricula  Nome                 Código da Função     Número de Faltas   Salário Bruto   Salário Líquido    Imposto   \n",
      "--------------------------------------------------------------------------------------------------------------------\n",
      "1          Luis                 101                  2                  R$ 1680.00        R$ 5568.00        0         %\n"
     ]
    }
   ],
   "source": [
    "tabelaFuncionario = {\n",
    "    1: {'nome': 'Luis', 'codigo': 101, 'numero_faltas': 2, 'salario_bruto': 1680.0, 'salario_liquido': 5568.0, 'imposto': 0},\n",
    "    2: {'nome': 'Silva', 'codigo': 101, 'numero_faltas': 2, 'salario_bruto': 1680.0, 'salario_liquido': 4568.0, 'imposto': 0},\n",
    "    3: {'nome': 'Gustavo', 'codigo': 102, 'numero_faltas': 3, 'salario_bruto': 3000.0, 'salario_liquido': 2595.0, 'imposto': 15}\n",
    "}\n",
    "\n",
    "def maiorSalarioLiquido():\n",
    "    matriculaFuncionario = 0\n",
    "    maiorSalario = 0\n",
    "\n",
    "    print(f\"\\n{'Matricula':<10} {'Nome':<20} {'Código da Função':<20} {'Número de Faltas':<18} {'Salário Bruto':<15} {'Salário Líquido':<18} {'Imposto':<10}\")\n",
    "    print(\"-\" * 116)\n",
    "\n",
    "    for matricula, dados in tabelaFuncionario.items():\n",
    "        if dados['salario_liquido'] > maiorSalario:\n",
    "            maiorSalario = dados['salario_liquido']\n",
    "            matriculaFuncionario = matricula\n",
    "        \n",
    "    print(f\"{matriculaFuncionario:<10} {tabelaFuncionario[matriculaFuncionario]['nome']:<20} {tabelaFuncionario[matriculaFuncionario]['codigo']:<20} {tabelaFuncionario[matriculaFuncionario]['numero_faltas']:<18} R$ {tabelaFuncionario[matriculaFuncionario]['salario_bruto']:<14.2f} R$ {tabelaFuncionario[matriculaFuncionario]['salario_liquido']:<14.2f} {tabelaFuncionario[matriculaFuncionario]['imposto']:<10}%\")\n",
    "\n",
    "maiorSalarioLiquido()"
   ]
  },
  {
   "cell_type": "code",
   "execution_count": 117,
   "metadata": {},
   "outputs": [
    {
     "name": "stdout",
     "output_type": "stream",
     "text": [
      "\n",
      "Matricula  Nome                 Código da Função     Número de Faltas   Desconto Salário\n",
      "--------------------------------------------------------------------------------------------------------------------\n",
      "3          Gustavo              102                  6                  R$ 405.00         \n"
     ]
    }
   ],
   "source": [
    "tabelaFuncionario = {\n",
    "    1: {'nome': 'Luis', 'codigo': 101, 'numero_faltas': 4, 'salario_bruto': 1680.0, 'salario_liquido': 1568.0, 'imposto': 0},\n",
    "    2: {'nome': 'Silva', 'codigo': 101, 'numero_faltas': 3, 'salario_bruto': 1680.0, 'salario_liquido': 1568.0, 'imposto': 0},\n",
    "    3: {'nome': 'Gustavo', 'codigo': 102, 'numero_faltas': 6, 'salario_bruto': 3000.0, 'salario_liquido': 2595.0, 'imposto': 15}\n",
    "}\n",
    "\n",
    "def maiorNumFaltas():\n",
    "    matriculaFuncionario = 0\n",
    "    faltas = 0\n",
    "\n",
    "    print(f\"\\n{'Matricula':<10} {'Nome':<20} {'Código da Função':<20} {'Número de Faltas':<18} {'Desconto Salário':<15}\")\n",
    "    print(\"-\" * 116)\n",
    "\n",
    "    for matricula, dados in tabelaFuncionario.items():\n",
    "        if dados['numero_faltas'] > faltas:\n",
    "            faltas = dados['numero_faltas']\n",
    "            matriculaFuncionario = matricula\n",
    "\n",
    "    print(f\"{matriculaFuncionario:<10} {tabelaFuncionario[matriculaFuncionario]['nome']:<20} {tabelaFuncionario[matriculaFuncionario]['codigo']:<20} {tabelaFuncionario[matriculaFuncionario]['numero_faltas']:<18} R$ {(tabelaFuncionario[matriculaFuncionario]['salario_bruto'] - tabelaFuncionario[matriculaFuncionario]['salario_liquido']):<14.2f} \")\n",
    "    \n",
    "maiorNumFaltas()"
   ]
  }
 ],
 "metadata": {
  "kernelspec": {
   "display_name": ".venv",
   "language": "python",
   "name": "python3"
  },
  "language_info": {
   "codemirror_mode": {
    "name": "ipython",
    "version": 3
   },
   "file_extension": ".py",
   "mimetype": "text/x-python",
   "name": "python",
   "nbconvert_exporter": "python",
   "pygments_lexer": "ipython3",
   "version": "3.10.12"
  }
 },
 "nbformat": 4,
 "nbformat_minor": 2
}
